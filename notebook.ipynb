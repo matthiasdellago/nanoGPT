{
 "cells": [
  {
   "cell_type": "code",
   "execution_count": 1,
   "metadata": {},
   "outputs": [],
   "source": [
    "from icecream import ic\n",
    "import torch"
   ]
  },
  {
   "cell_type": "code",
   "execution_count": 2,
   "metadata": {},
   "outputs": [
    {
     "name": "stdout",
     "output_type": "stream",
     "text": [
      "First Citizen:\n",
      "Before we proceed any further, hear me speak.\n",
      "\n",
      "All:\n",
      "Speak, speak.\n",
      "\n",
      "First Citizen:\n",
      "You are all resolved rather to die than to famish?\n",
      "\n",
      "All:\n",
      "Resolved. resolved.\n",
      "\n",
      "First Citizen:\n",
      "First, you\n"
     ]
    }
   ],
   "source": [
    "# get txt\n",
    "with open('shakespeare.txt', 'r', encoding='utf-8') as f:\n",
    "    text = f.read()\n",
    "    \n",
    "print(text[:200])"
   ]
  },
  {
   "cell_type": "code",
   "execution_count": 3,
   "metadata": {},
   "outputs": [
    {
     "name": "stderr",
     "output_type": "stream",
     "text": [
      "ic| vocab_size: 65\n"
     ]
    },
    {
     "data": {
      "text/plain": [
       "65"
      ]
     },
     "execution_count": 3,
     "metadata": {},
     "output_type": "execute_result"
    }
   ],
   "source": [
    "chars = sorted(list(set(text)))\n",
    "vocab_size = len(chars)\n",
    "ic(vocab_size)"
   ]
  },
  {
   "cell_type": "code",
   "execution_count": 4,
   "metadata": {},
   "outputs": [
    {
     "name": "stderr",
     "output_type": "stream",
     "text": [
      "ic| decode(encode(\"lezz go\")): 'lezz go'\n"
     ]
    },
    {
     "data": {
      "text/plain": [
       "'lezz go'"
      ]
     },
     "execution_count": 4,
     "metadata": {},
     "output_type": "execute_result"
    }
   ],
   "source": [
    "# letter tokens, cuz easy. maybe improve later.\n",
    "\n",
    "# map chars to ints\n",
    "\n",
    "# create a dict to map all chars to ints\n",
    "ch_to_int = {ch:i for i, ch in enumerate(chars)}\n",
    "# and vice versa\n",
    "int_to_ch = {i:ch for i, ch in enumerate(chars)}\n",
    "# didn't know that list comprehension also worked for dicts, very cool!\n",
    "\n",
    "#def encode & decode functions\n",
    "encode = lambda s: [ch_to_int[c] for c in s]\n",
    "decode = lambda l: ''.join([int_to_ch[i] for i in l])\n",
    "\n",
    "ic(decode(encode(\"lezz go\")))"
   ]
  },
  {
   "cell_type": "code",
   "execution_count": 5,
   "metadata": {},
   "outputs": [
    {
     "name": "stderr",
     "output_type": "stream",
     "text": [
      "ic| data.shape: torch.Size([1115394]), data.dtype: torch.int64\n",
      "ic| data[:100]: tensor([18, 47, 56, 57, 58,  1, 15, 47, 58, 47, 64, 43, 52, 10,  0, 14, 43, 44,\n",
      "                        53, 56, 43,  1, 61, 43,  1, 54, 56, 53, 41, 43, 43, 42,  1, 39, 52, 63,\n",
      "                         1, 44, 59, 56, 58, 46, 43, 56,  6,  1, 46, 43, 39, 56,  1, 51, 43,  1,\n",
      "                        57, 54, 43, 39, 49,  8,  0,  0, 13, 50, 50, 10,  0, 31, 54, 43, 39, 49,\n",
      "                         6,  1, 57, 54, 43, 39, 49,  8,  0,  0, 18, 47, 56, 57, 58,  1, 15, 47,\n",
      "                        58, 47, 64, 43, 52, 10,  0, 37, 53, 59])\n"
     ]
    },
    {
     "data": {
      "text/plain": [
       "tensor([18, 47, 56, 57, 58,  1, 15, 47, 58, 47, 64, 43, 52, 10,  0, 14, 43, 44,\n",
       "        53, 56, 43,  1, 61, 43,  1, 54, 56, 53, 41, 43, 43, 42,  1, 39, 52, 63,\n",
       "         1, 44, 59, 56, 58, 46, 43, 56,  6,  1, 46, 43, 39, 56,  1, 51, 43,  1,\n",
       "        57, 54, 43, 39, 49,  8,  0,  0, 13, 50, 50, 10,  0, 31, 54, 43, 39, 49,\n",
       "         6,  1, 57, 54, 43, 39, 49,  8,  0,  0, 18, 47, 56, 57, 58,  1, 15, 47,\n",
       "        58, 47, 64, 43, 52, 10,  0, 37, 53, 59])"
      ]
     },
     "execution_count": 5,
     "metadata": {},
     "output_type": "execute_result"
    }
   ],
   "source": [
    "# encode text and store as torch\n",
    "data = torch.tensor(encode(text), dtype = torch.long)\n",
    "ic(data.shape,data.dtype)\n",
    "ic(data[:100])"
   ]
  },
  {
   "cell_type": "code",
   "execution_count": 6,
   "metadata": {},
   "outputs": [],
   "source": [
    "# split training and validation set.\n",
    "\n",
    "# use last 10th of data as validation. smarter options are availible\n",
    "t_ratio = int(0.9*len(data))\n",
    "train_data = data[:t_ratio]\n",
    "val_data = data[t_ratio:]"
   ]
  },
  {
   "cell_type": "code",
   "execution_count": 7,
   "metadata": {},
   "outputs": [
    {
     "data": {
      "text/plain": [
       "tensor([18, 47, 56, 57, 58,  1, 15, 47, 58])"
      ]
     },
     "execution_count": 7,
     "metadata": {},
     "output_type": "execute_result"
    }
   ],
   "source": [
    "block_size = 8\n",
    "train_data[:block_size+1]"
   ]
  },
  {
   "cell_type": "code",
   "execution_count": 13,
   "metadata": {},
   "outputs": [
    {
     "name": "stderr",
     "output_type": "stream",
     "text": [
      "ic| get_batch('train'): (tensor([[ 1, 51, 63,  1, 51, 39, 57, 58],\n",
      "                                [42,  1, 58, 59, 56, 52,  1, 58],\n",
      "                                [60, 47, 52, 43, 63, 39, 56, 42],\n",
      "                                [ 0,  0, 25, 13, 30, 21, 13, 26]]),\n",
      "                         tensor([[51, 63,  1, 51, 39, 57, 58, 43],\n",
      "                                [ 1, 58, 59, 56, 52,  1, 58, 46],\n",
      "                                [47, 52, 43, 63, 39, 56, 42,  1],\n",
      "                                [ 0, 25, 13, 30, 21, 13, 26, 13]]))\n"
     ]
    },
    {
     "data": {
      "text/plain": [
       "(tensor([[ 1, 51, 63,  1, 51, 39, 57, 58],\n",
       "         [42,  1, 58, 59, 56, 52,  1, 58],\n",
       "         [60, 47, 52, 43, 63, 39, 56, 42],\n",
       "         [ 0,  0, 25, 13, 30, 21, 13, 26]]),\n",
       " tensor([[51, 63,  1, 51, 39, 57, 58, 43],\n",
       "         [ 1, 58, 59, 56, 52,  1, 58, 46],\n",
       "         [47, 52, 43, 63, 39, 56, 42,  1],\n",
       "         [ 0, 25, 13, 30, 21, 13, 26, 13]]))"
      ]
     },
     "execution_count": 13,
     "metadata": {},
     "output_type": "execute_result"
    }
   ],
   "source": [
    "torch.manual_seed(1)\n",
    "batch_size = 4\n",
    "block_size = 8\n",
    "\n",
    "def get_batch(split):\n",
    "    # training or validating?\n",
    "    data = train_data if split == 'train' else val_data\n",
    "    # pick #batch_size random starting points in data\n",
    "    rand_starts = torch.randint(len(data)- block_size, (batch_size,))\n",
    "    # inputs\n",
    "    inputs = torch.stack([data[i:i+block_size] for i in rand_starts])\n",
    "    expected_outputs = torch.stack([data[i+1:i+block_size+1] for i in rand_starts])\n",
    "    return inputs, expected_outputs\n",
    "\n",
    "ic(get_batch('train'))"
   ]
  }
 ],
 "metadata": {
  "kernelspec": {
   "display_name": "Python 3",
   "language": "python",
   "name": "python3"
  },
  "language_info": {
   "codemirror_mode": {
    "name": "ipython",
    "version": 3
   },
   "file_extension": ".py",
   "mimetype": "text/x-python",
   "name": "python",
   "nbconvert_exporter": "python",
   "pygments_lexer": "ipython3",
   "version": "3.9.9"
  }
 },
 "nbformat": 4,
 "nbformat_minor": 4
}
